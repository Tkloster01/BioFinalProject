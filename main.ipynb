{
 "cells": [
  {
   "cell_type": "markdown",
   "id": "3de6caf1-ab59-429f-922d-1718adb6e3c4",
   "metadata": {},
   "source": [
    "# Climate change's impact on marine food webs\n",
    "### Tyler Kloster, Hana Burroughs\n",
    "  \n",
    "Expanding on a paper by Kortsh et. all,  \n",
    "https://royalsocietypublishing.org/doi/10.1098/rspb.2015.1546#d1e354"
   ]
  },
  {
   "cell_type": "code",
   "execution_count": 2,
   "id": "11966c0c-25bc-4057-8e02-b33645df2e95",
   "metadata": {},
   "outputs": [],
   "source": [
    "import pandas as pd\n",
    "import numpy as np\n",
    "import networkx as nx\n",
    "import os"
   ]
  },
  {
   "cell_type": "code",
   "execution_count": 3,
   "id": "72003ac4-8a5a-441b-b4df-2931f8bd26d6",
   "metadata": {},
   "outputs": [],
   "source": [
    "# networkx dosen't accept xlsx format, so first import into a pandas dataframe to work with\n",
    "\n",
    "dataTitle = 'Boreal_and_Arctic_food_webs_of_the_Barents_Sea.xlsx'\n",
    "excel = pd.ExcelFile(dataTitle)\n",
    "borealWeb = pd.read_excel(excel, 'The Boreal food web of the BS')\n",
    "arcticWeb = pd.read_excel(excel, 'The Arctic food web of the BS')"
   ]
  },
  {
   "cell_type": "code",
   "execution_count": 4,
   "id": "bf77b0f1-af19-4171-a2f3-074f42708461",
   "metadata": {},
   "outputs": [],
   "source": [
    "borealLabels = borealWeb.columns.tolist()\n",
    "arcticLabels = arcticWeb.columns.tolist()\n",
    "\n",
    "borealNames = list(borealWeb.iloc[:, 0])\n",
    "arcticNames = list(arcticWeb.iloc[:, 0])\n",
    "\n",
    "borealSize = borealWeb.shape\n",
    "arcticSize = arcticWeb.shape"
   ]
  },
  {
   "cell_type": "code",
   "execution_count": 5,
   "id": "8eacd110-185e-4b95-9ec4-08e162ae1548",
   "metadata": {},
   "outputs": [],
   "source": [
    "# Dictionaries to make transfering from scientific names to the shortened label\n",
    "\n",
    "borealNameToLabel = {}\n",
    "arcticNameToLabel = {}\n",
    "for i in range(len(borealNames)):\n",
    "    borealNameToLabel[borealNames[i]] = borealLabels[i + 2]\n",
    "for i in range(len(arcticNames)):\n",
    "    arcticNameToLabel[arcticNames[i]] = arcticLabels[i + 2]"
   ]
  },
  {
   "cell_type": "code",
   "execution_count": 6,
   "id": "82872e77-0ba2-4137-8346-30876184aecd",
   "metadata": {},
   "outputs": [
    {
     "name": "stdout",
     "output_type": "stream",
     "text": [
      "235\n"
     ]
    }
   ],
   "source": [
    "# Double checking all species were loaded (Paper cites 233 unique species)\n",
    "\n",
    "uniqueNames = borealLabels.copy()[2:]\n",
    "for i in arcticLabels:\n",
    "    if (i not in uniqueNames):\n",
    "        uniqueNames.append(i)\n",
    "\n",
    "print(len(uniqueNames))"
   ]
  },
  {
   "cell_type": "code",
   "execution_count": 7,
   "id": "a2344286-f43f-4c2f-aaa5-2e145dda42e5",
   "metadata": {},
   "outputs": [],
   "source": [
    "# If you want to remake the .gml files, set these to True\n",
    "\n",
    "generateBorealData = True\n",
    "generateArcticData = True"
   ]
  },
  {
   "cell_type": "code",
   "execution_count": 8,
   "id": "92fecc3a-bf9f-46f8-b3ec-fc4099f05d79",
   "metadata": {},
   "outputs": [],
   "source": [
    "# Builds the .gml file based on the adjacency matrix given in the .xlsx format\n",
    "\n",
    "if (generateBorealData):\n",
    "    with open(\"Boreal_Data.gml\", \"w\") as gmlFile:\n",
    "        # initialize the file\n",
    "        gmlFile.write('graph\\n')\n",
    "        gmlFile.write('[\\n')\n",
    "        gmlFile.write('  directed 1\\n')\n",
    "\n",
    "        # set all nodes to have a numerical id and the abreviation as the label\n",
    "        for i in range(borealSize[0]):\n",
    "            gmlFile.write('  node\\n  [\\n')\n",
    "            gmlFile.write('    id ' + str(i) + '\\n')\n",
    "            gmlFile.write('    label \"' + str(borealWeb.iloc[i, 1]) + '\"\\n')\n",
    "            gmlFile.write('  ]\\n')\n",
    "\n",
    "        # set the edges only where there is a 1 in the adjacency matrix\n",
    "        for i in range(borealSize[0]):\n",
    "            for j in range(2, borealSize[1]):\n",
    "                if (borealWeb.iloc[i, j] == 1):\n",
    "                    gmlFile.write('  edge\\n  [\\n')\n",
    "                    gmlFile.write('    source ' + str(i) +'\\n')\n",
    "                    gmlFile.write('    target ' + str(j - 2) + '\\n')\n",
    "                    gmlFile.write('  ]\\n')\n",
    "    \n",
    "        gmlFile.write(']')"
   ]
  },
  {
   "cell_type": "code",
   "execution_count": 9,
   "id": "b3b00fc2-25e0-498d-96e1-ad65d25e1966",
   "metadata": {},
   "outputs": [],
   "source": [
    "if (generateArcticData):\n",
    "    with open(\"Arctic_Data.gml\", \"w\") as gmlFile:\n",
    "        gmlFile.write('graph\\n')\n",
    "        gmlFile.write('[\\n')\n",
    "        gmlFile.write('  directed 1\\n')\n",
    "    \n",
    "        for i in range(arcticSize[0]):\n",
    "            gmlFile.write('  node\\n  [\\n')\n",
    "            gmlFile.write('    id ' + str(i) + '\\n')\n",
    "            gmlFile.write('    label \"' + str(arcticWeb.iloc[i, 1]) + '\"\\n')\n",
    "            gmlFile.write('  ]\\n')\n",
    "    \n",
    "        for i in range(arcticSize[0]):\n",
    "            for j in range(2, arcticSize[1]):\n",
    "                if (arcticWeb.iloc[i, j] == 1):\n",
    "                    gmlFile.write('  edge\\n  [\\n')\n",
    "                    gmlFile.write('    source ' + str(i) +'\\n')\n",
    "                    gmlFile.write('    target ' + str(j - 2) + '\\n')\n",
    "                    gmlFile.write('  ]\\n')\n",
    "    \n",
    "        gmlFile.write(']')"
   ]
  },
  {
   "cell_type": "code",
   "execution_count": 10,
   "id": "7c22f96d-7c37-406f-8122-db71b17a1e93",
   "metadata": {},
   "outputs": [],
   "source": [
    "# load the gml files\n",
    "\n",
    "borealGraph = nx.read_gml('Boreal_Data.gml', label='id')\n",
    "arcticGraph = nx.read_gml('Arctic_Data.gml', label='id')\n",
    "borealGLabels = nx.get_node_attributes(borealGraph, \"label\")\n",
    "arcticGLabels = nx.get_node_attributes(arcticGraph, \"label\")"
   ]
  },
  {
   "cell_type": "code",
   "execution_count": 11,
   "id": "b85baa6b-08d2-42e0-bcd3-e4b6beb5d150",
   "metadata": {},
   "outputs": [],
   "source": [
    "def fraction_self_feeding(G):\n",
    "    adj_matrix = nx.to_numpy_array(G)\n",
    "    self_feeding_count = np.sum(np.diag(adj_matrix) != 0)\n",
    "    total_species = G.number_of_nodes()\n",
    "    return self_feeding_count / total_species"
   ]
  },
  {
   "cell_type": "code",
   "execution_count": 17,
   "id": "594d3489-632d-4050-94c9-949fc274dc9a",
   "metadata": {},
   "outputs": [
    {
     "name": "stdout",
     "output_type": "stream",
     "text": [
      "Number of species, S  = 180\n",
      "Number of links, L  = 1546\n",
      "Linkage Density: 8.59\n",
      "Connectance: 0.05\n",
      "Percentage Cannibals: 0.13\n",
      "Mean shortest path length:  0.63\n"
     ]
    }
   ],
   "source": [
    "#boreal_graph metrics \n",
    "S = borealGraph.number_of_nodes()\n",
    "L = borealGraph.number_of_edges()\n",
    "C = L/S**2\n",
    "LD = L/S\n",
    "meanPath = nx.average_shortest_path_length(borealGraph)\n",
    "Can = fraction_self_feeding(borealGraph)\n",
    "# clustering = nx.transitivity(borealGraph)\n",
    "# modularity = nx.community.greedy_modularity_communities(borealGraph)\n",
    "\n",
    "print(f'Number of species, S  = {S}')\n",
    "print(f'Number of links, L  = {L}') \n",
    "print(f\"Linkage Density: {LD:.2f}\")\n",
    "print(f\"Connectance: {C:.2f}\")\n",
    "# print(f\"Percentage Omnivores:\")\n",
    "print(f\"Percentage Cannibals: {Can:.2f}\")\n",
    "# print(f\"Percentage of Species in Loops:\")\n",
    "print(f'Mean shortest path length: %5.2f' % meanPath)\n",
    "# print (f\"Mean Clustering: {clustering}\")\n",
    "# print (f\"Modulairty: {modularity}\")"
   ]
  },
  {
   "cell_type": "code",
   "execution_count": 18,
   "id": "89e854d8-cce0-40fe-ab4f-104ea4abd09f",
   "metadata": {},
   "outputs": [
    {
     "name": "stdout",
     "output_type": "stream",
     "text": [
      "Number of species, S  = 159\n",
      "Number of links, L  = 848\n",
      "Linkage Density: 5.33\n",
      "Connectance: 0.03\n",
      "Percentage Cannibals: 0.06\n",
      "Mean shortest path length:  0.26\n"
     ]
    }
   ],
   "source": [
    "#arctic_graph metrics \n",
    "S = arcticGraph.number_of_nodes()\n",
    "L = arcticGraph.number_of_edges()\n",
    "C = L/S**2\n",
    "LD = L/S\n",
    "meanPath = nx.average_shortest_path_length(arcticGraph)\n",
    "Can = fraction_self_feeding(arcticGraph)\n",
    "# clustering = nx.transitivity(arcticGraph)\n",
    "\n",
    "print(f'Number of species, S  = {S}')\n",
    "print(f'Number of links, L  = {L}')\n",
    "print(f\"Linkage Density: {LD:.2f}\")\n",
    "print(f\"Connectance: {C:.2f}\")\n",
    "# print(f\"Percentage Omnivores:\")\n",
    "print(f\"Percentage Cannibals: {Can:.2f}\")\n",
    "# print(f\"Percentage of Species in Loops:\")\n",
    "print(f'Mean shortest path length: %5.2f' % meanPath)\n",
    "# print (f\"Mean Clustering: {clustering}\")\n",
    "# print (f\"Modulairty:\")"
   ]
  },
  {
   "cell_type": "code",
   "execution_count": 12,
   "id": "5a64d250-a248-4713-b790-b2c9be050288",
   "metadata": {
    "scrolled": true
   },
   "outputs": [],
   "source": [
    "# nx.draw(borealGraph)"
   ]
  },
  {
   "cell_type": "code",
   "execution_count": 13,
   "id": "568fa7ce-c378-4eb8-b605-3848e3a69892",
   "metadata": {},
   "outputs": [],
   "source": [
    "# nx.draw(arcticGraph)"
   ]
  },
  {
   "cell_type": "code",
   "execution_count": 14,
   "id": "9424c9c9-3a79-456f-bb48-d98384be4eb7",
   "metadata": {},
   "outputs": [
    {
     "name": "stdout",
     "output_type": "stream",
     "text": [
      "Gadus_morhua :  113\n",
      "Melanogrammus_aeglefinus :  88\n",
      "Sebastes_mentella :  62\n",
      "Pandalus_borealis :  59\n",
      "Clupea_harengus :  58\n",
      "Paralithodes_camtschaticus :  55\n",
      "Micromesistius_poutassou :  55\n",
      "Detritus :  52\n",
      "Calanus_finmarchicus :  52\n",
      "Amblyraja_radiata :  50\n",
      "\n",
      "Gadus_morhua :  82\n",
      "Melanogrammus_aeglefinus :  65\n",
      "Paralithodes_camtschaticus :  52\n",
      "Amblyraja_radiata :  49\n",
      "Sebastes_mentella :  49\n",
      "Somniosus_microcephalus :  37\n",
      "Micromesistius_poutassou :  35\n",
      "Phocoena_phocoena :  32\n",
      "Pollachius_virens :  31\n",
      "Clupea_harengus :  30\n",
      "\n",
      "Detritus :  52\n",
      "Phytoplankton_indet :  47\n",
      "Calanus_finmarchicus :  44\n",
      "Calanus_hyperboreus :  39\n",
      "Thysanoessa_inermis :  38\n",
      "Pandalus_borealis :  36\n",
      "Calanus_glacialis :  35\n",
      "Polychaeta :  34\n",
      "Diatom :  33\n",
      "Mallotus_villosus :  33\n"
     ]
    }
   ],
   "source": [
    "# collect the maximum total, in, and out degrees to see which species are the biggest predators or \n",
    "# prey in each environment. Below are tables giving the common name of each of these species to better\n",
    "# understand the data\n",
    "\n",
    "borealDegreesTotal = {}\n",
    "borealDegreesIn = {}\n",
    "borealDegreesOut = {}\n",
    "for i, j in borealGraph.degree():\n",
    "    borealDegreesTotal[borealNames[i]] = j\n",
    "for i, j in borealGraph.in_degree():\n",
    "    borealDegreesIn[borealNames[i]] = j\n",
    "for i, j in borealGraph.out_degree():\n",
    "    borealDegreesOut[borealNames[i]] = j\n",
    "\n",
    "maximumDegreeBorealTotal = dict(sorted(borealDegreesTotal.items(), key=lambda item: item[1], reverse=True))\n",
    "maximumDegreeBorealIn = dict(sorted(borealDegreesIn.items(), key=lambda item: item[1], reverse=True))\n",
    "maximumDegreeBorealOut = dict(sorted(borealDegreesOut.items(), key=lambda item: item[1], reverse=True))\n",
    "for i in range(10):\n",
    "    names = list(maximumDegreeBorealTotal.keys())\n",
    "    print(names[i], ': ', maximumDegreeBorealTotal[names[i]])\n",
    "print()\n",
    "for i in range(10):\n",
    "    names = list(maximumDegreeBorealIn.keys())\n",
    "    print(names[i], ': ', maximumDegreeBorealIn[names[i]])\n",
    "print()\n",
    "for i in range(10):\n",
    "    names = list(maximumDegreeBorealOut.keys())\n",
    "    print(names[i], ': ', maximumDegreeBorealOut[names[i]])"
   ]
  },
  {
   "cell_type": "markdown",
   "id": "316bdd3c-8ec1-4253-a309-3bcafccb0bb9",
   "metadata": {},
   "source": [
    "The most interconnected trophospecies in the boreal sea (most total degree):  \n",
    "\n",
    "|Scientific Name            |Common Name      |Degree |\n",
    "|---------------------------|-----------------|-------|\n",
    "|Gadus_morhua               |Atlantic cod     |113    |\n",
    "|Melanogrammus_aeglefinus   |Haddock          |88     |\n",
    "|Sebastes_mentella          |Beaked redfish   |62     |\n",
    "|Pandalus_borealis          |Caridean shrimp  |59     |\n",
    "|Clupea_harengus            |Atlantic herring |58     |\n",
    "|Paralithodes_camtschaticus |Red king crab    |55     |\n",
    "|Micromesistius_poutassou   |Blue whiting     |55     |\n",
    "|Detritus                   |trash            |52     |\n",
    "|Calanus_finmarchicus       |zooplankton      |52     |\n",
    "|Amblyraja_radiata          |Thorny skate     |50     |\n",
    "\n",
    "The most predatory trophospecies in the boreal sea (most in-degree):\n",
    "\n",
    "|Scientific Name            |Common Name      |Degree |\n",
    "|---------------------------|-----------------|-------|\n",
    "|Gadus_morhua               |Atlantic cod     |82     |\n",
    "|Melanogrammus_aeglefinus   |Haddock          |65     |\n",
    "|Paralithodes_camtschaticus |Red king crab    |52     |\n",
    "|Amblyraja_radiata          |Thorny skate     |49     |\n",
    "|Sebastes_mentella          |Beaked redfish   |49     |\n",
    "|Somniosus_microcephalus    |Greenland shark  |37     |\n",
    "|Micromesistius_poutassou   |Blue whiting     |35     |\n",
    "|Phocoena_phocoena          |Harbour porpoise |32     |\n",
    "|Pollachius_virens          |Pollock          |31     |\n",
    "|Clupea_harengus            |Atlantic herring |30     |\n",
    "\n",
    "The most preyed upon trophospecies in the boreal sea (most out-degree):\n",
    "\n",
    "|Scientific Name            |Common Name      |Degree |\n",
    "|---------------------------|-----------------|-------|\n",
    "|Detritus                   |trash            |52     |\n",
    "|Phytoplankton_indet        |phytoplankton    |47     |\n",
    "|Calanus_finmarchicus       |zooplankton      |44     |\n",
    "|Calanus_hyperboreus        |copepod          |39     |\n",
    "|Thysanoessa_inermis        |krill            |38     |\n",
    "|Pandalus_borealis          |Caridean shrimp  |36     |\n",
    "|Calanus_glacialis          |copepod          |35     |\n",
    "|Polychaeta                 |worm             |34     |\n",
    "|Diatom                     |algae            |33     |\n",
    "|Mallotus_villosus          |Capelin          |33     |\n"
   ]
  },
  {
   "cell_type": "code",
   "execution_count": 15,
   "id": "cfa5d242-8820-434e-80ef-ac1c6745f663",
   "metadata": {},
   "outputs": [
    {
     "name": "stdout",
     "output_type": "stream",
     "text": [
      "1\n",
      "Somniosus_microcephalus Somniosus_microcephalus\n"
     ]
    }
   ],
   "source": [
    "# How many predators does the freaking shark have\n",
    "print(borealDegreesOut['Somniosus_microcephalus'])\n",
    "\n",
    "# what da freak is it\n",
    "label = borealNameToLabel['Somniosus_microcephalus']\n",
    "\n",
    "num = borealLabels.index(label) - 2\n",
    "for i, j in borealGraph.edges:\n",
    "    if (i == num):\n",
    "        print(borealNames[i], borealNames[j])\n",
    "\n",
    "# its canabalism"
   ]
  },
  {
   "cell_type": "code",
   "execution_count": 16,
   "id": "6baf68c7-679d-4f42-907b-c5f632810c37",
   "metadata": {},
   "outputs": [
    {
     "name": "stdout",
     "output_type": "stream",
     "text": [
      "Detritus :  55\n",
      "Phytoplankton_indet :  44\n",
      "Boreogadus_saida :  42\n",
      "Pandalus_borealis :  41\n",
      "Calanus_finmarchicus :  37\n",
      "Calanus_hyperboreus :  37\n",
      "Themisto_libellula :  37\n",
      "Mallotus_villosus :  35\n",
      "Thysanoessa_inermis :  34\n",
      "Polychaeta :  34\n",
      "\n",
      "Chionoecetes_opilio :  28\n",
      "Erignathus_barbatus :  27\n",
      "Boreogadus_saida :  25\n",
      "Alle_alle :  24\n",
      "Anarhichas_lupus :  21\n",
      "Pandalus_borealis :  20\n",
      "Phoca_hispida :  19\n",
      "Fulmarus_glacialis :  18\n",
      "Amblyraja_hyperborea :  17\n",
      "Hippoglossoides_platessoides :  17\n",
      "\n",
      "Detritus :  55\n",
      "Phytoplankton_indet :  44\n",
      "Calanus_hyperboreus :  33\n",
      "Polychaeta :  33\n",
      "Themisto_libellula :  32\n",
      "Calanus_finmarchicus :  29\n",
      "Calanus_glacialis :  28\n",
      "Thysanoessa_inermis :  28\n",
      "Mallotus_villosus :  24\n",
      "Diatom :  23\n"
     ]
    }
   ],
   "source": [
    "arcticDegreesTotal = {}\n",
    "arcticDegreesIn = {}\n",
    "arcticDegreesOut = {}\n",
    "for i, j in arcticGraph.degree():\n",
    "    arcticDegreesTotal[arcticNames[i]] = j\n",
    "for i, j in arcticGraph.in_degree():\n",
    "    arcticDegreesIn[arcticNames[i]] = j\n",
    "for i, j in arcticGraph.out_degree():\n",
    "    arcticDegreesOut[arcticNames[i]] = j\n",
    "\n",
    "maximumDegreeArcticTotal = dict(sorted(arcticDegreesTotal.items(), key=lambda item: item[1], reverse=True))\n",
    "maximumDegreeArcticIn = dict(sorted(arcticDegreesIn.items(), key=lambda item: item[1], reverse=True))\n",
    "maximumDegreeArcticOut = dict(sorted(arcticDegreesOut.items(), key=lambda item: item[1], reverse=True))\n",
    "for i in range(10):\n",
    "    names = list(maximumDegreeArcticTotal.keys())\n",
    "    print(names[i], ': ', maximumDegreeArcticTotal[names[i]])\n",
    "print()\n",
    "for i in range(10):\n",
    "    names = list(maximumDegreeArcticIn.keys())\n",
    "    print(names[i], ': ', maximumDegreeArcticIn[names[i]])\n",
    "print()\n",
    "for i in range(10):\n",
    "    names = list(maximumDegreeArcticOut.keys())\n",
    "    print(names[i], ': ', maximumDegreeArcticOut[names[i]])"
   ]
  },
  {
   "cell_type": "markdown",
   "id": "9127e08c-fb35-4339-bbe1-9598fb41aa33",
   "metadata": {},
   "source": [
    "The most interconnected trophospecies in the arctic sea (most total degree):  \n",
    "\n",
    "|Scientific Name            |Common Name      |Degree |\n",
    "|---------------------------|-----------------|-------|\n",
    "|Detritus                   |trash            |55     |\n",
    "|Phytoplankton_indet        |phytoplankton    |44     |\n",
    "|Boreogadus_saida           |Arctic cod       |42     |\n",
    "|Pandalus_borealis          |Caridean shrimp  |41     |\n",
    "|Calanus_finmarchicus       |zooplankton      |37     |\n",
    "|Calanus_hyperboreus        |copepod          |37     |\n",
    "|Themisto_libellula         |amphipod         |37     |\n",
    "|Mallotus_villosus          |Capelin          |35     |\n",
    "|Thysanoessa_inermis        |krill            |34     |\n",
    "|Polychaeta                 |worm             |34     |\n",
    "\n",
    "The most predatory trophospecies in the arctic sea (most in-degree):\n",
    "\n",
    "|Scientific Name             |Common Name      |Degree |\n",
    "|----------------------------|-----------------|-------|\n",
    "|Chionoecetes_opilio         |Snow crab        |28     |\n",
    "|Erignathus_barbatus         |Bearded seal     |27     |\n",
    "|Boreogadus_saida            |Arctic cod       |25     |\n",
    "|Alle_alle                   |sea bird         |24     |\n",
    "|Anarhichas_lupus            |Atlantic wolffish|21     |\n",
    "|Pandalus_borealis           |Caridean shrimp  |20     |\n",
    "|Phoca_hispida               |Ringed seal      |19     |\n",
    "|Fulmarus_glacialis          |Northern fulmar  |18     |\n",
    "|Amblyraja_hyperborea        |Arctic skate     |17     |\n",
    "|Hippoglossoides_platessoides|American plaice  |17     |\n",
    "\n",
    "The most preyed upon trophospecies in the arctic sea (most in-degree):\n",
    "\n",
    "|Scientific Name            |Common Name      |Degree |\n",
    "|---------------------------|-----------------|-------|\n",
    "|Detritus                   |trash            |55     |\n",
    "|Phytoplankton_indet        |phytoplankton    |44     |\n",
    "|Calanus_hyperboreus        |copepod          |33     |\n",
    "|Polychaeta                 |worm             |33     |\n",
    "|Themisto_libellula         |amphipod         |32     |\n",
    "|Calanus_finmarchicus       |zooplankton      |29     |\n",
    "|Fulmarus_glacialis         |Northern fulmar  |28     |\n",
    "|Thysanoessa_inermis        |krill            |28     |\n",
    "|Mallotus_villosus          |Capelin          |24     |\n",
    "|Diatom                     |algae            |23     |"
   ]
  },
  {
   "cell_type": "markdown",
   "id": "4b442e0a-06a3-4018-9377-7c99c2c35177",
   "metadata": {},
   "source": [
    "## Arctic II"
   ]
  },
  {
   "cell_type": "code",
   "execution_count": 22,
   "id": "2a8c75a0-2175-463c-8b80-86c1f6bc77fd",
   "metadata": {},
   "outputs": [
    {
     "name": "stdout",
     "output_type": "stream",
     "text": [
      "The graphs share 106 shared species\n"
     ]
    }
   ],
   "source": [
    "# Find the intersection of the two sets\n",
    "shared_species = set(borealGLabels.values()) & set(arcticGLabels.values())\n",
    "\n",
    "# Check if there are any common nodes\n",
    "if shared_species:\n",
    "    print(f\"The graphs share {len(shared_species)} shared species\")\n",
    "    # print(shared_species)\n",
    "else:\n",
    "    print(\"The graphs do not share any common labels.\")"
   ]
  },
  {
   "cell_type": "code",
   "execution_count": 20,
   "id": "62f0e247-01c0-4f08-8cac-0953fff9f22a",
   "metadata": {},
   "outputs": [
    {
     "name": "stdout",
     "output_type": "stream",
     "text": [
      "Arctic II graph has 163 nodes and 1014 edges\n",
      "New fish species added: ['GAD_MOR', 'MEL_AEG', 'SEB_MAR', 'SEB_MEN']\n"
     ]
    }
   ],
   "source": [
    "# new fish to be added:\n",
    "# cod (Gadus morhua), haddock (Melanogrammus aeglefinus), golden redfish (Sebastes norvegicus) and beaked redfish (Sebastes mentella)\n",
    "\n",
    "new_species = [\"GAD_MOR\", \"MEL_AEG\", \"SEB_MAR\", \"SEB_MEN\"]\n",
    "\n",
    "# add new species to account for cannibalism and previous interactions amoungst themselves \n",
    "shared_species = set(borealGLabels.values()) & set(arcticGLabels.values())\n",
    "shared_species.add(\"GAD_MOR\")\n",
    "shared_species.add(\"MEL_AEG\")\n",
    "shared_species.add(\"SEB_MAR\")\n",
    "shared_species.add(\"SEB_MEN\")\n",
    "\n",
    "arctic_ii_graph = arcticGraph.copy()\n",
    "\n",
    "for species in new_species:\n",
    "    arctic_ii_graph.add_node(len(arctic_ii_graph), label=species)\n",
    "\n",
    "# Function to get node ID by label\n",
    "def get_node_by_label(graph, label):\n",
    "    return [node for node, data in graph.nodes(data=True) if data['label'] == label][0]\n",
    "\n",
    "# Add edges for new fish species based on Boreal graph connections\n",
    "for fish in new_species:\n",
    "    fish_node_boreal = get_node_by_label(borealGraph, fish)\n",
    "    fish_node_arctic = get_node_by_label(arctic_ii_graph, fish)\n",
    "    for species in shared_species:\n",
    "        species_node_boreal = get_node_by_label(borealGraph, species)\n",
    "        species_node_arctic = get_node_by_label(arctic_ii_graph, species)\n",
    "        if borealGraph.has_edge(fish_node_boreal, species_node_boreal):\n",
    "            arctic_ii_graph.add_edge(fish_node_arctic, species_node_arctic)\n",
    "        if borealGraph.has_edge(species_node_boreal, fish_node_boreal):\n",
    "            arctic_ii_graph.add_edge(species_node_arctic, fish_node_arctic)\n",
    "\n",
    "print(f\"Arctic II graph has {arctic_ii_graph.number_of_nodes()} nodes and {arctic_ii_graph.number_of_edges()} edges\")\n",
    "print(f\"New fish species added: {new_species}\")"
   ]
  },
  {
   "cell_type": "code",
   "execution_count": 23,
   "id": "b02083d8-6962-4df2-814a-79ad59ce79a8",
   "metadata": {},
   "outputs": [
    {
     "name": "stdout",
     "output_type": "stream",
     "text": [
      "Number of species, S  = 163\n",
      "Number of links, L  = 1014\n",
      "Linkage Density: 6.22\n",
      "Connectance: 0.04\n",
      "Percentage Cannibals: 0.08\n"
     ]
    }
   ],
   "source": [
    "#arctic_II_graph metrics \n",
    "S = arctic_ii_graph.number_of_nodes()\n",
    "L = arctic_ii_graph.number_of_edges()\n",
    "C = L/S**2\n",
    "LD = L/S\n",
    "meanPath = nx.average_shortest_path_length(arctic_ii_graph)\n",
    "Can = fraction_self_feeding(arctic_ii_graph)\n",
    "# clustering = nx.transitivity(arcticGraph)\n",
    "\n",
    "print(f'Number of species, S  = {S}')\n",
    "print(f'Number of links, L  = {L}')\n",
    "print(f\"Linkage Density: {LD:.2f}\")\n",
    "print(f\"Connectance: {C:.2f}\")\n",
    "# print(f\"Percentage Omnivores:\")\n",
    "print(f\"Percentage Cannibals: {Can:.2f}\")\n",
    "# print(f\"Percentage of Species in Loops:\")\n",
    "# print(f'Mean shortest path length: %5.2f' % meanPath)\n",
    "# print (f\"Mean Clustering: {clustering}\")\n",
    "# print (f\"Modulairty:\")"
   ]
  }
 ],
 "metadata": {
  "kernelspec": {
   "display_name": "Python 3 (ipykernel)",
   "language": "python",
   "name": "python3"
  },
  "language_info": {
   "codemirror_mode": {
    "name": "ipython",
    "version": 3
   },
   "file_extension": ".py",
   "mimetype": "text/x-python",
   "name": "python",
   "nbconvert_exporter": "python",
   "pygments_lexer": "ipython3",
   "version": "3.10.8"
  }
 },
 "nbformat": 4,
 "nbformat_minor": 5
}
